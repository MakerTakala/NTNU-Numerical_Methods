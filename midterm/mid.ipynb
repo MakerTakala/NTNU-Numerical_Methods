{
 "cells": [
  {
   "cell_type": "code",
   "execution_count": 17,
   "metadata": {},
   "outputs": [],
   "source": [
    "from sympy import *\n",
    "from sympy.abc import w, x, y, z"
   ]
  },
  {
   "cell_type": "code",
   "execution_count": 19,
   "metadata": {},
   "outputs": [
    {
     "ename": "TypeError",
     "evalue": "\nData type not understood; expecting list of lists or lists of values.",
     "output_type": "error",
     "traceback": [
      "\u001b[0;31m---------------------------------------------------------------------------\u001b[0m",
      "\u001b[0;31mTypeError\u001b[0m                                 Traceback (most recent call last)",
      "Cell \u001b[0;32mIn [19], line 1\u001b[0m\n\u001b[0;32m----> 1\u001b[0m solve_linear_system(Matrix(\n\u001b[1;32m      2\u001b[0m     (\u001b[39m1.19\u001b[39;49m, \u001b[39m2.11\u001b[39;49m, \u001b[39m-\u001b[39;49m\u001b[39m100\u001b[39;49m, \u001b[39m1\u001b[39;49m, \u001b[39m1.12\u001b[39;49m),\n\u001b[1;32m      3\u001b[0m     (\u001b[39m14.2\u001b[39;49m, \u001b[39m-\u001b[39;49m\u001b[39m0.122\u001b[39;49m, \u001b[39m12.2\u001b[39;49m, \u001b[39m-\u001b[39;49m\u001b[39m1\u001b[39;49m, \u001b[39m3.44\u001b[39;49m),\n\u001b[1;32m      4\u001b[0m     (\u001b[39m0\u001b[39;49m, \u001b[39m100\u001b[39;49m, \u001b[39m-\u001b[39;49m\u001b[39m99.9\u001b[39;49m, \u001b[39m1\u001b[39;49m, \u001b[39m2.15\u001b[39;49m),\n\u001b[1;32m      5\u001b[0m     (\u001b[39m15.3\u001b[39;49m, \u001b[39m0.11\u001b[39;49m, \u001b[39m-\u001b[39;49m\u001b[39m13.1\u001b[39;49m, \u001b[39m-\u001b[39;49m\u001b[39m1\u001b[39;49m, \u001b[39m4.16\u001b[39;49m)), w, x, y, z)\n",
      "File \u001b[0;32m/opt/homebrew/lib/python3.10/site-packages/sympy/matrices/repmatrix.py:329\u001b[0m, in \u001b[0;36mMutableRepMatrix.__new__\u001b[0;34m(cls, *args, **kwargs)\u001b[0m\n\u001b[1;32m    328\u001b[0m \u001b[39mdef\u001b[39;00m \u001b[39m__new__\u001b[39m(\u001b[39mcls\u001b[39m, \u001b[39m*\u001b[39margs, \u001b[39m*\u001b[39m\u001b[39m*\u001b[39mkwargs):\n\u001b[0;32m--> 329\u001b[0m     \u001b[39mreturn\u001b[39;00m \u001b[39mcls\u001b[39;49m\u001b[39m.\u001b[39;49m_new(\u001b[39m*\u001b[39;49margs, \u001b[39m*\u001b[39;49m\u001b[39m*\u001b[39;49mkwargs)\n",
      "File \u001b[0;32m/opt/homebrew/lib/python3.10/site-packages/sympy/matrices/repmatrix.py:340\u001b[0m, in \u001b[0;36mMutableRepMatrix._new\u001b[0;34m(cls, copy, *args, **kwargs)\u001b[0m\n\u001b[1;32m    338\u001b[0m     rows, cols, flat_list \u001b[39m=\u001b[39m args\n\u001b[1;32m    339\u001b[0m \u001b[39melse\u001b[39;00m:\n\u001b[0;32m--> 340\u001b[0m     rows, cols, flat_list \u001b[39m=\u001b[39m \u001b[39mcls\u001b[39;49m\u001b[39m.\u001b[39;49m_handle_creation_inputs(\u001b[39m*\u001b[39;49margs, \u001b[39m*\u001b[39;49m\u001b[39m*\u001b[39;49mkwargs)\n\u001b[1;32m    341\u001b[0m     flat_list \u001b[39m=\u001b[39m \u001b[39mlist\u001b[39m(flat_list) \u001b[39m# create a shallow copy\u001b[39;00m\n\u001b[1;32m    343\u001b[0m rep \u001b[39m=\u001b[39m \u001b[39mcls\u001b[39m\u001b[39m.\u001b[39m_flat_list_to_DomainMatrix(rows, cols, flat_list)\n",
      "File \u001b[0;32m/opt/homebrew/lib/python3.10/site-packages/sympy/matrices/matrices.py:1143\u001b[0m, in \u001b[0;36mMatrixBase._handle_creation_inputs\u001b[0;34m(cls, *args, **kwargs)\u001b[0m\n\u001b[1;32m   1140\u001b[0m     flat_list \u001b[39m=\u001b[39m []\n\u001b[1;32m   1142\u001b[0m \u001b[39mif\u001b[39;00m flat_list \u001b[39mis\u001b[39;00m \u001b[39mNone\u001b[39;00m:\n\u001b[0;32m-> 1143\u001b[0m     \u001b[39mraise\u001b[39;00m \u001b[39mTypeError\u001b[39;00m(filldedent(\u001b[39m'''\u001b[39m\n\u001b[1;32m   1144\u001b[0m \u001b[39m        Data type not understood; expecting list of lists\u001b[39m\n\u001b[1;32m   1145\u001b[0m \u001b[39m        or lists of values.\u001b[39m\u001b[39m'''\u001b[39m))\n\u001b[1;32m   1147\u001b[0m \u001b[39mreturn\u001b[39;00m rows, cols, flat_list\n",
      "\u001b[0;31mTypeError\u001b[0m: \nData type not understood; expecting list of lists or lists of values."
     ]
    }
   ],
   "source": [
    "\n",
    "solve_linear_system_LU(Matrix([\n",
    "    [1.19, 2.11, -100, 1, 1.12],\n",
    "    [14.2, -0.122, 12.2, -1, 3.44],\n",
    "    [0, 100, -99.9, 1, 2.15],\n",
    "    [15.3, 0.11, -13.1, -1, 4.16]]), [w, x, y, z])\n"
   ]
  },
  {
   "cell_type": "markdown",
   "metadata": {},
   "source": []
  }
 ],
 "metadata": {
  "kernelspec": {
   "display_name": "Python 3.10.6 64-bit",
   "language": "python",
   "name": "python3"
  },
  "language_info": {
   "codemirror_mode": {
    "name": "ipython",
    "version": 3
   },
   "file_extension": ".py",
   "mimetype": "text/x-python",
   "name": "python",
   "nbconvert_exporter": "python",
   "pygments_lexer": "ipython3",
   "version": "3.10.6"
  },
  "orig_nbformat": 4,
  "vscode": {
   "interpreter": {
    "hash": "b0fa6594d8f4cbf19f97940f81e996739fb7646882a419484c72d19e05852a7e"
   }
  }
 },
 "nbformat": 4,
 "nbformat_minor": 2
}
